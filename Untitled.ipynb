{
 "cells": [
  {
   "cell_type": "markdown",
   "id": "a112aeed-3a0b-4694-b5ba-8aed5b861d6a",
   "metadata": {},
   "source": [
    "# E5 Advanced geospatial plotting "
   ]
  },
  {
   "cell_type": "code",
   "execution_count": 1,
   "id": "ce2ef2b1-8812-4d15-846b-c2a85e075ea4",
   "metadata": {},
   "outputs": [
    {
     "name": "stderr",
     "output_type": "stream",
     "text": [
      "C:\\Users\\obiki\\anaconda3\\envs\\venv_citibikes\\Lib\\site-packages\\keplergl\\keplergl.py:2: UserWarning: pkg_resources is deprecated as an API. See https://setuptools.pypa.io/en/latest/pkg_resources.html. The pkg_resources package is slated for removal as early as 2025-11-30. Refrain from using this package or pin to Setuptools<81.\n",
      "  from pkg_resources import resource_string\n"
     ]
    }
   ],
   "source": [
    "# importing libraries\n",
    "\n",
    "import pandas as pd\n",
    "import os\n",
    "from keplergl import KeplerGl\n",
    "from pyproj import CRS\n",
    "import numpy as np\n",
    "from matplotlib import pyplot as plt\n",
    "import requests\n",
    "\n",
    "\n"
   ]
  },
  {
   "cell_type": "markdown",
   "id": "27a1347c-5d72-4f38-b030-94dfdd2073e9",
   "metadata": {},
   "source": [
    "# importing newyork data file"
   ]
  },
  {
   "cell_type": "code",
   "execution_count": 3,
   "id": "82ea469f-233f-4212-b5a1-65ee2b3240cd",
   "metadata": {},
   "outputs": [],
   "source": [
    "df = pd.read_csv(\"newyork_data.csv\", index_col=0, nrows=1000000, low_memory=False)  # loading the first 1 million rows"
   ]
  },
  {
   "cell_type": "markdown",
   "id": "f945cce2-b4be-4810-8c90-999afbfca31e",
   "metadata": {},
   "source": [
    "## Data preprocessing"
   ]
  },
  {
   "cell_type": "markdown",
   "id": "4189ad1f-8d3d-49eb-87a6-b56dd652f163",
   "metadata": {},
   "source": [
    "# Creating a value column and group by start and end station "
   ]
  },
  {
   "cell_type": "code",
   "execution_count": 4,
   "id": "c922e49d-0d08-4fb5-9a3e-1bfbf513fee6",
   "metadata": {},
   "outputs": [
    {
     "data": {
      "text/plain": [
       "Index(['ride_id', 'rideable_type', 'started_at', 'ended_at',\n",
       "       'start_station_name', 'start_station_id', 'end_station_name',\n",
       "       'end_station_id', 'start_lat', 'start_lng', 'end_lat', 'end_lng',\n",
       "       'member_casual', 'date', 'avgTemp', '_merge'],\n",
       "      dtype='object')"
      ]
     },
     "execution_count": 4,
     "metadata": {},
     "output_type": "execute_result"
    }
   ],
   "source": [
    "df.columns    # confirming columns"
   ]
  },
  {
   "cell_type": "markdown",
   "id": "852ae51e-0de1-4f44-814f-9de487113fc6",
   "metadata": {},
   "source": [
    "# Creating a value and group by start and end station name"
   ]
  },
  {
   "cell_type": "code",
   "execution_count": 5,
   "id": "ce82fd50-9e07-4641-a859-66c58da1b4e4",
   "metadata": {},
   "outputs": [],
   "source": [
    "\n",
    "df['value'] = 1\n",
    "df_group = df.groupby(['start_station_name', 'end_station_name'])['value'].count().reset_index()"
   ]
  },
  {
   "cell_type": "code",
   "execution_count": 6,
   "id": "d6eaede0-ec02-4846-8358-6a498156e500",
   "metadata": {},
   "outputs": [
    {
     "data": {
      "text/html": [
       "<div>\n",
       "<style scoped>\n",
       "    .dataframe tbody tr th:only-of-type {\n",
       "        vertical-align: middle;\n",
       "    }\n",
       "\n",
       "    .dataframe tbody tr th {\n",
       "        vertical-align: top;\n",
       "    }\n",
       "\n",
       "    .dataframe thead th {\n",
       "        text-align: right;\n",
       "    }\n",
       "</style>\n",
       "<table border=\"1\" class=\"dataframe\">\n",
       "  <thead>\n",
       "    <tr style=\"text-align: right;\">\n",
       "      <th></th>\n",
       "      <th>start_station_name</th>\n",
       "      <th>end_station_name</th>\n",
       "      <th>value</th>\n",
       "    </tr>\n",
       "  </thead>\n",
       "  <tbody>\n",
       "    <tr>\n",
       "      <th>0</th>\n",
       "      <td>1 Ave &amp; E 110 St</td>\n",
       "      <td>1 Ave &amp; E 110 St</td>\n",
       "      <td>27</td>\n",
       "    </tr>\n",
       "    <tr>\n",
       "      <th>1</th>\n",
       "      <td>1 Ave &amp; E 110 St</td>\n",
       "      <td>1 Ave &amp; E 44 St</td>\n",
       "      <td>2</td>\n",
       "    </tr>\n",
       "    <tr>\n",
       "      <th>2</th>\n",
       "      <td>1 Ave &amp; E 110 St</td>\n",
       "      <td>1 Ave &amp; E 68 St</td>\n",
       "      <td>1</td>\n",
       "    </tr>\n",
       "    <tr>\n",
       "      <th>3</th>\n",
       "      <td>1 Ave &amp; E 110 St</td>\n",
       "      <td>1 Ave &amp; E 78 St</td>\n",
       "      <td>3</td>\n",
       "    </tr>\n",
       "    <tr>\n",
       "      <th>4</th>\n",
       "      <td>1 Ave &amp; E 110 St</td>\n",
       "      <td>1 Ave &amp; E 94 St</td>\n",
       "      <td>15</td>\n",
       "    </tr>\n",
       "    <tr>\n",
       "      <th>...</th>\n",
       "      <td>...</td>\n",
       "      <td>...</td>\n",
       "      <td>...</td>\n",
       "    </tr>\n",
       "    <tr>\n",
       "      <th>206020</th>\n",
       "      <td>Yankee Ferry Terminal</td>\n",
       "      <td>Picnic Point</td>\n",
       "      <td>16</td>\n",
       "    </tr>\n",
       "    <tr>\n",
       "      <th>206021</th>\n",
       "      <td>Yankee Ferry Terminal</td>\n",
       "      <td>Soissons Landing</td>\n",
       "      <td>19</td>\n",
       "    </tr>\n",
       "    <tr>\n",
       "      <th>206022</th>\n",
       "      <td>Yankee Ferry Terminal</td>\n",
       "      <td>South St &amp; Gouverneur Ln</td>\n",
       "      <td>1</td>\n",
       "    </tr>\n",
       "    <tr>\n",
       "      <th>206023</th>\n",
       "      <td>Yankee Ferry Terminal</td>\n",
       "      <td>South St &amp; Whitehall St</td>\n",
       "      <td>5</td>\n",
       "    </tr>\n",
       "    <tr>\n",
       "      <th>206024</th>\n",
       "      <td>Yankee Ferry Terminal</td>\n",
       "      <td>Yankee Ferry Terminal</td>\n",
       "      <td>67</td>\n",
       "    </tr>\n",
       "  </tbody>\n",
       "</table>\n",
       "<p>206025 rows × 3 columns</p>\n",
       "</div>"
      ],
      "text/plain": [
       "           start_station_name          end_station_name  value\n",
       "0            1 Ave & E 110 St          1 Ave & E 110 St     27\n",
       "1            1 Ave & E 110 St           1 Ave & E 44 St      2\n",
       "2            1 Ave & E 110 St           1 Ave & E 68 St      1\n",
       "3            1 Ave & E 110 St           1 Ave & E 78 St      3\n",
       "4            1 Ave & E 110 St           1 Ave & E 94 St     15\n",
       "...                       ...                       ...    ...\n",
       "206020  Yankee Ferry Terminal              Picnic Point     16\n",
       "206021  Yankee Ferry Terminal          Soissons Landing     19\n",
       "206022  Yankee Ferry Terminal  South St & Gouverneur Ln      1\n",
       "206023  Yankee Ferry Terminal   South St & Whitehall St      5\n",
       "206024  Yankee Ferry Terminal     Yankee Ferry Terminal     67\n",
       "\n",
       "[206025 rows x 3 columns]"
      ]
     },
     "execution_count": 6,
     "metadata": {},
     "output_type": "execute_result"
    }
   ],
   "source": [
    "df_group     # confirming the group"
   ]
  },
  {
   "cell_type": "markdown",
   "id": "a5ddb556-070d-4618-9f4b-11172f787fba",
   "metadata": {},
   "source": [
    "# confirming that the group by function has been done correctly"
   ]
  },
  {
   "cell_type": "code",
   "execution_count": 7,
   "id": "87c3d33d-d5a6-464b-a635-c04dda7ee2ca",
   "metadata": {},
   "outputs": [
    {
     "name": "stdout",
     "output_type": "stream",
     "text": [
      "990711\n",
      "(1000000, 17)\n"
     ]
    }
   ],
   "source": [
    "print(df_group['value'].sum())\n",
    "print(df.shape)"
   ]
  },
  {
   "cell_type": "code",
   "execution_count": 8,
   "id": "2db86d03-4ed0-405b-aed7-e2908379ebc0",
   "metadata": {},
   "outputs": [
    {
     "data": {
      "text/plain": [
       "count    206025.000000\n",
       "mean          4.808693\n",
       "std           8.590943\n",
       "min           1.000000\n",
       "25%           1.000000\n",
       "50%           2.000000\n",
       "75%           5.000000\n",
       "max         428.000000\n",
       "Name: value, dtype: float64"
      ]
     },
     "execution_count": 8,
     "metadata": {},
     "output_type": "execute_result"
    }
   ],
   "source": [
    "df_group['value'].describe()"
   ]
  },
  {
   "cell_type": "markdown",
   "id": "01497a82-32ee-42e6-9b25-793154ef2028",
   "metadata": {},
   "source": [
    "### Some exploratory analysis into the trips"
   ]
  },
  {
   "cell_type": "markdown",
   "id": "e998618f-7e7e-40e9-9109-b2a4a6034c9f",
   "metadata": {},
   "source": [
    "# Plotting a histogram"
   ]
  },
  {
   "cell_type": "code",
   "execution_count": 9,
   "id": "cdb20f74-f455-4eb2-9372-8945a0612cdb",
   "metadata": {},
   "outputs": [
    {
     "data": {
      "image/png": "[encoded data removed]",
      "text/plain": [
       "<Figure size 640x480 with 1 Axes>"
      ]
     },
     "metadata": {},
     "output_type": "display_data"
    }
   ],
   "source": [
    "df_group['value'].hist(bins = 100)\n",
    "plt.show()"
   ]
  },
  {
   "cell_type": "markdown",
   "id": "0f1c0eaa-f43d-42fe-86f8-25b8caf64852",
   "metadata": {},
   "source": [
    "# plotting a boxplot"
   ]
  },
  {
   "cell_type": "code",
   "execution_count": 10,
   "id": "37313394-f81f-4364-b7a2-4df18c7184c1",
   "metadata": {},
   "outputs": [
    {
     "data": {
      "text/plain": [
       "[]"
      ]
     },
     "execution_count": 10,
     "metadata": {},
     "output_type": "execute_result"
    },
    {
     "data": {
      "image/png": "[encoded data removed]",
      "text/plain": [
       "<Figure size 640x480 with 1 Axes>"
      ]
     },
     "metadata": {},
     "output_type": "display_data"
    }
   ],
   "source": [
    "b_plot = df_group.boxplot(column = 'value') \n",
    "b_plot.plot()"
   ]
  },
  {
   "cell_type": "code",
   "execution_count": 11,
   "id": "e659ed24-850b-4c85-8164-823841b41f48",
   "metadata": {},
   "outputs": [
    {
     "data": {
      "text/plain": [
       "value\n",
       "1      85167\n",
       "2      34148\n",
       "3      19003\n",
       "4      12607\n",
       "5       9235\n",
       "       ...  \n",
       "223        1\n",
       "175        1\n",
       "109        1\n",
       "185        1\n",
       "209        1\n",
       "Name: count, Length: 172, dtype: int64"
      ]
     },
     "execution_count": 11,
     "metadata": {},
     "output_type": "execute_result"
    }
   ],
   "source": [
    "df_group['value'].sort_index().value_counts()"
   ]
  },
  {
   "cell_type": "code",
   "execution_count": null,
   "id": "96266908-2f25-4ea4-9ba8-1282446f6da8",
   "metadata": {},
   "outputs": [],
   "source": [
    "df_group.to_csv('df_groupby_final.csv')    # saving df group as a csv file"
   ]
  },
  {
   "cell_type": "code",
   "execution_count": null,
   "id": "43a33d14-b104-43db-a83b-debe1ee2d426",
   "metadata": {},
   "outputs": [],
   "source": [
    "df_group.head()"
   ]
  }
 ],
 "metadata": {
  "kernelspec": {
   "display_name": "Python [conda env:venv_citibikes] *",
   "language": "python",
   "name": "conda-env-venv_citibikes-py"
  },
  "language_info": {
   "codemirror_mode": {
    "name": "ipython",
    "version": 3
   },
   "file_extension": ".py",
   "mimetype": "text/x-python",
   "name": "python",
   "nbconvert_exporter": "python",
   "pygments_lexer": "ipython3",
   "version": "3.13.5"
  }
 },
 "nbformat": 4,
 "nbformat_minor": 5
}

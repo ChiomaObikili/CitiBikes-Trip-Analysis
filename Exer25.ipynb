{
 "cells": [
  {
   "cell_type": "markdown",
   "id": "6064f9a9-936e-4c00-9ba0-74efdf4435a1",
   "metadata": {},
   "source": [
    "# E5 Advanced geospatial plotting "
   ]
  },
  {
   "cell_type": "code",
   "execution_count": 1,
   "id": "79d2e74d-a65f-4613-8622-a00d219f95d9",
   "metadata": {},
   "outputs": [
    {
     "name": "stderr",
     "output_type": "stream",
     "text": [
      "C:\\Users\\obiki\\anaconda3\\envs\\venv_citibikes\\Lib\\site-packages\\keplergl\\keplergl.py:2: UserWarning: pkg_resources is deprecated as an API. See https://setuptools.pypa.io/en/latest/pkg_resources.html. The pkg_resources package is slated for removal as early as 2025-11-30. Refrain from using this package or pin to Setuptools<81.\n",
      "  from pkg_resources import resource_string\n"
     ]
    }
   ],
   "source": [
    "# importing libraries\n",
    "\n",
    "import pandas as pd\n",
    "import os\n",
    "from keplergl import KeplerGl\n",
    "import numpy as np\n",
    "from matplotlib import pyplot as plt\n",
    "import requests\n",
    "\n",
    "\n"
   ]
  },
  {
   "cell_type": "markdown",
   "id": "b065763c-f75a-41f2-8d8d-7f6732b1ae8c",
   "metadata": {},
   "source": [
    "# importing newyork data file"
   ]
  },
  {
   "cell_type": "code",
   "execution_count": 2,
   "id": "9b5b053d-5e4b-49e4-9c97-856ec83cd3f3",
   "metadata": {},
   "outputs": [],
   "source": [
    "df = pd.read_csv(\"newyork_data.csv\", index_col=0, nrows=1000000, low_memory=False)  # loading the first 1 million rows"
   ]
  },
  {
   "cell_type": "markdown",
   "id": "b15f328e-e5bf-4dcd-af31-58e3716b0dfa",
   "metadata": {},
   "source": [
    "## Data preprocessing"
   ]
  },
  {
   "cell_type": "markdown",
   "id": "c81f3efc-10d2-4a2f-bce8-c69795c16a51",
   "metadata": {},
   "source": [
    "# Creating a value column and group by start and end station "
   ]
  },
  {
   "cell_type": "code",
   "execution_count": 3,
   "id": "719a87d3-51ad-4517-ae63-78fddc1c3dbf",
   "metadata": {},
   "outputs": [
    {
     "data": {
      "text/plain": [
       "Index(['ride_id', 'rideable_type', 'started_at', 'ended_at',\n",
       "       'start_station_name', 'start_station_id', 'end_station_name',\n",
       "       'end_station_id', 'start_lat', 'start_lng', 'end_lat', 'end_lng',\n",
       "       'member_casual', 'date', 'avgTemp', '_merge'],\n",
       "      dtype='object')"
      ]
     },
     "execution_count": 3,
     "metadata": {},
     "output_type": "execute_result"
    }
   ],
   "source": [
    "df.columns    # confirming columns"
   ]
  },
  {
   "cell_type": "markdown",
   "id": "4c0ab290-0c80-4700-a2a9-dbb90f0d3743",
   "metadata": {},
   "source": [
    "# Creating a value and group by start and end station name"
   ]
  },
  {
   "cell_type": "code",
   "execution_count": 4,
   "id": "df32223e-9eec-470c-ae9f-13c00f637a6a",
   "metadata": {},
   "outputs": [],
   "source": [
    "\n",
    "df['value'] = 1\n",
    "df_group = df.groupby(['start_station_name', 'end_station_name'])['value'].count().reset_index()"
   ]
  },
  {
   "cell_type": "code",
   "execution_count": 5,
   "id": "cd05305f-90ce-412f-a130-96840739c6ee",
   "metadata": {},
   "outputs": [
    {
     "data": {
      "text/html": [
       "<div>\n",
       "<style scoped>\n",
       "    .dataframe tbody tr th:only-of-type {\n",
       "        vertical-align: middle;\n",
       "    }\n",
       "\n",
       "    .dataframe tbody tr th {\n",
       "        vertical-align: top;\n",
       "    }\n",
       "\n",
       "    .dataframe thead th {\n",
       "        text-align: right;\n",
       "    }\n",
       "</style>\n",
       "<table border=\"1\" class=\"dataframe\">\n",
       "  <thead>\n",
       "    <tr style=\"text-align: right;\">\n",
       "      <th></th>\n",
       "      <th>start_station_name</th>\n",
       "      <th>end_station_name</th>\n",
       "      <th>value</th>\n",
       "    </tr>\n",
       "  </thead>\n",
       "  <tbody>\n",
       "    <tr>\n",
       "      <th>0</th>\n",
       "      <td>1 Ave &amp; E 110 St</td>\n",
       "      <td>1 Ave &amp; E 110 St</td>\n",
       "      <td>27</td>\n",
       "    </tr>\n",
       "    <tr>\n",
       "      <th>1</th>\n",
       "      <td>1 Ave &amp; E 110 St</td>\n",
       "      <td>1 Ave &amp; E 44 St</td>\n",
       "      <td>2</td>\n",
       "    </tr>\n",
       "    <tr>\n",
       "      <th>2</th>\n",
       "      <td>1 Ave &amp; E 110 St</td>\n",
       "      <td>1 Ave &amp; E 68 St</td>\n",
       "      <td>1</td>\n",
       "    </tr>\n",
       "    <tr>\n",
       "      <th>3</th>\n",
       "      <td>1 Ave &amp; E 110 St</td>\n",
       "      <td>1 Ave &amp; E 78 St</td>\n",
       "      <td>3</td>\n",
       "    </tr>\n",
       "    <tr>\n",
       "      <th>4</th>\n",
       "      <td>1 Ave &amp; E 110 St</td>\n",
       "      <td>1 Ave &amp; E 94 St</td>\n",
       "      <td>15</td>\n",
       "    </tr>\n",
       "    <tr>\n",
       "      <th>...</th>\n",
       "      <td>...</td>\n",
       "      <td>...</td>\n",
       "      <td>...</td>\n",
       "    </tr>\n",
       "    <tr>\n",
       "      <th>206020</th>\n",
       "      <td>Yankee Ferry Terminal</td>\n",
       "      <td>Picnic Point</td>\n",
       "      <td>16</td>\n",
       "    </tr>\n",
       "    <tr>\n",
       "      <th>206021</th>\n",
       "      <td>Yankee Ferry Terminal</td>\n",
       "      <td>Soissons Landing</td>\n",
       "      <td>19</td>\n",
       "    </tr>\n",
       "    <tr>\n",
       "      <th>206022</th>\n",
       "      <td>Yankee Ferry Terminal</td>\n",
       "      <td>South St &amp; Gouverneur Ln</td>\n",
       "      <td>1</td>\n",
       "    </tr>\n",
       "    <tr>\n",
       "      <th>206023</th>\n",
       "      <td>Yankee Ferry Terminal</td>\n",
       "      <td>South St &amp; Whitehall St</td>\n",
       "      <td>5</td>\n",
       "    </tr>\n",
       "    <tr>\n",
       "      <th>206024</th>\n",
       "      <td>Yankee Ferry Terminal</td>\n",
       "      <td>Yankee Ferry Terminal</td>\n",
       "      <td>67</td>\n",
       "    </tr>\n",
       "  </tbody>\n",
       "</table>\n",
       "<p>206025 rows × 3 columns</p>\n",
       "</div>"
      ],
      "text/plain": [
       "           start_station_name          end_station_name  value\n",
       "0            1 Ave & E 110 St          1 Ave & E 110 St     27\n",
       "1            1 Ave & E 110 St           1 Ave & E 44 St      2\n",
       "2            1 Ave & E 110 St           1 Ave & E 68 St      1\n",
       "3            1 Ave & E 110 St           1 Ave & E 78 St      3\n",
       "4            1 Ave & E 110 St           1 Ave & E 94 St     15\n",
       "...                       ...                       ...    ...\n",
       "206020  Yankee Ferry Terminal              Picnic Point     16\n",
       "206021  Yankee Ferry Terminal          Soissons Landing     19\n",
       "206022  Yankee Ferry Terminal  South St & Gouverneur Ln      1\n",
       "206023  Yankee Ferry Terminal   South St & Whitehall St      5\n",
       "206024  Yankee Ferry Terminal     Yankee Ferry Terminal     67\n",
       "\n",
       "[206025 rows x 3 columns]"
      ]
     },
     "execution_count": 5,
     "metadata": {},
     "output_type": "execute_result"
    }
   ],
   "source": [
    "df_group     # confirming the group"
   ]
  },
  {
   "cell_type": "markdown",
   "id": "d9bcb352-8c93-44ae-afbd-29a4c81e3967",
   "metadata": {},
   "source": [
    "# confirming that the group by function has been done correctly"
   ]
  },
  {
   "cell_type": "code",
   "execution_count": 6,
   "id": "aea27c14-f194-4700-a9f6-1deeb7405d60",
   "metadata": {},
   "outputs": [
    {
     "name": "stdout",
     "output_type": "stream",
     "text": [
      "990711\n",
      "(1000000, 17)\n"
     ]
    }
   ],
   "source": [
    "print(df_group['value'].sum())\n",
    "print(df.shape)"
   ]
  },
  {
   "cell_type": "code",
   "execution_count": 7,
   "id": "1dd775c1-3c31-4ade-af23-275a01fe6500",
   "metadata": {},
   "outputs": [
    {
     "data": {
      "text/plain": [
       "count    206025.000000\n",
       "mean          4.808693\n",
       "std           8.590943\n",
       "min           1.000000\n",
       "25%           1.000000\n",
       "50%           2.000000\n",
       "75%           5.000000\n",
       "max         428.000000\n",
       "Name: value, dtype: float64"
      ]
     },
     "execution_count": 7,
     "metadata": {},
     "output_type": "execute_result"
    }
   ],
   "source": [
    "df_group['value'].describe()"
   ]
  },
  {
   "cell_type": "markdown",
   "id": "7733f40b-2dd9-4775-85e8-32f38d5279a3",
   "metadata": {},
   "source": [
    "### Some exploratory analysis into the trips"
   ]
  },
  {
   "cell_type": "markdown",
   "id": "917c2fcb-a348-4bc6-8043-42a867f2cf20",
   "metadata": {},
   "source": [
    "# Plotting a histogram"
   ]
  },
  {
   "cell_type": "code",
   "execution_count": 8,
   "id": "d8a671de-3fe2-4834-bb57-d4e9827cc129",
   "metadata": {},
   "outputs": [
    {
     "data": {
      "image/png": "[encoded data removed]",
      "text/plain": [
       "<Figure size 640x480 with 1 Axes>"
      ]
     },
     "metadata": {},
     "output_type": "display_data"
    }
   ],
   "source": [
    "df_group['value'].hist(bins = 100)\n",
    "plt.show()"
   ]
  },
  {
   "cell_type": "markdown",
   "id": "bf5e7f50-1c9e-4bcd-910b-c640c0ce6995",
   "metadata": {},
   "source": [
    "# plotting a boxplot"
   ]
  },
  {
   "cell_type": "code",
   "execution_count": 9,
   "id": "78d679a0-e3ad-45a4-bcdb-6ca257f12c00",
   "metadata": {},
   "outputs": [
    {
     "data": {
      "text/plain": [
       "[]"
      ]
     },
     "execution_count": 9,
     "metadata": {},
     "output_type": "execute_result"
    },
    {
     "data": {
      "image/png": "[encoded data removed]",
      "text/plain": [
       "<Figure size 640x480 with 1 Axes>"
      ]
     },
     "metadata": {},
     "output_type": "display_data"
    }
   ],
   "source": [
    "b_plot = df_group.boxplot(column = 'value') \n",
    "b_plot.plot()"
   ]
  },
  {
   "cell_type": "code",
   "execution_count": 10,
   "id": "da3c00af-ea26-40d5-999f-311c52f03339",
   "metadata": {},
   "outputs": [
    {
     "data": {
      "text/plain": [
       "value\n",
       "1      85167\n",
       "2      34148\n",
       "3      19003\n",
       "4      12607\n",
       "5       9235\n",
       "       ...  \n",
       "223        1\n",
       "175        1\n",
       "109        1\n",
       "185        1\n",
       "209        1\n",
       "Name: count, Length: 172, dtype: int64"
      ]
     },
     "execution_count": 10,
     "metadata": {},
     "output_type": "execute_result"
    }
   ],
   "source": [
    "df_group['value'].sort_index().value_counts()"
   ]
  },
  {
   "cell_type": "code",
   "execution_count": 11,
   "id": "9f175404-7ab2-4a58-9bc7-a47005dc4c97",
   "metadata": {},
   "outputs": [],
   "source": [
    "df_group.to_csv('df_groupby_final.csv')    # saving df group as a csv file"
   ]
  },
  {
   "cell_type": "code",
   "execution_count": 12,
   "id": "2876d3f5-17b4-4518-a121-42bd38a150ec",
   "metadata": {},
   "outputs": [
    {
     "data": {
      "text/html": [
       "<div>\n",
       "<style scoped>\n",
       "    .dataframe tbody tr th:only-of-type {\n",
       "        vertical-align: middle;\n",
       "    }\n",
       "\n",
       "    .dataframe tbody tr th {\n",
       "        vertical-align: top;\n",
       "    }\n",
       "\n",
       "    .dataframe thead th {\n",
       "        text-align: right;\n",
       "    }\n",
       "</style>\n",
       "<table border=\"1\" class=\"dataframe\">\n",
       "  <thead>\n",
       "    <tr style=\"text-align: right;\">\n",
       "      <th></th>\n",
       "      <th>start_station_name</th>\n",
       "      <th>end_station_name</th>\n",
       "      <th>value</th>\n",
       "    </tr>\n",
       "  </thead>\n",
       "  <tbody>\n",
       "    <tr>\n",
       "      <th>0</th>\n",
       "      <td>1 Ave &amp; E 110 St</td>\n",
       "      <td>1 Ave &amp; E 110 St</td>\n",
       "      <td>27</td>\n",
       "    </tr>\n",
       "    <tr>\n",
       "      <th>1</th>\n",
       "      <td>1 Ave &amp; E 110 St</td>\n",
       "      <td>1 Ave &amp; E 44 St</td>\n",
       "      <td>2</td>\n",
       "    </tr>\n",
       "    <tr>\n",
       "      <th>2</th>\n",
       "      <td>1 Ave &amp; E 110 St</td>\n",
       "      <td>1 Ave &amp; E 68 St</td>\n",
       "      <td>1</td>\n",
       "    </tr>\n",
       "    <tr>\n",
       "      <th>3</th>\n",
       "      <td>1 Ave &amp; E 110 St</td>\n",
       "      <td>1 Ave &amp; E 78 St</td>\n",
       "      <td>3</td>\n",
       "    </tr>\n",
       "    <tr>\n",
       "      <th>4</th>\n",
       "      <td>1 Ave &amp; E 110 St</td>\n",
       "      <td>1 Ave &amp; E 94 St</td>\n",
       "      <td>15</td>\n",
       "    </tr>\n",
       "  </tbody>\n",
       "</table>\n",
       "</div>"
      ],
      "text/plain": [
       "  start_station_name  end_station_name  value\n",
       "0   1 Ave & E 110 St  1 Ave & E 110 St     27\n",
       "1   1 Ave & E 110 St   1 Ave & E 44 St      2\n",
       "2   1 Ave & E 110 St   1 Ave & E 68 St      1\n",
       "3   1 Ave & E 110 St   1 Ave & E 78 St      3\n",
       "4   1 Ave & E 110 St   1 Ave & E 94 St     15"
      ]
     },
     "execution_count": 12,
     "metadata": {},
     "output_type": "execute_result"
    }
   ],
   "source": [
    "df_group.head()"
   ]
  },
  {
   "cell_type": "markdown",
   "id": "56069fa6-59a0-4f75-927b-232539a38dd9",
   "metadata": {},
   "source": [
    "## Merge data to create latitude and longitude - only for Chicago"
   ]
  },
  {
   "cell_type": "markdown",
   "id": "febe82aa-591a-4756-8234-5c1605d53723",
   "metadata": {},
   "source": [
    "# downloading Citi Bike station info feed (includes latitude & longitude)"
   ]
  },
  {
   "cell_type": "code",
   "execution_count": 13,
   "id": "999c2eca-2630-41d6-b9d8-e333a246bbd8",
   "metadata": {},
   "outputs": [],
   "source": [
    "url = \"https://gbfs.citibikenyc.com/gbfs/en/station_information.json\"\n",
    "data = requests.get(url).json()"
   ]
  },
  {
   "cell_type": "markdown",
   "id": "2c93a9ee-c0e3-4169-b139-418ec5cff633",
   "metadata": {},
   "source": [
    "# Converting JSON to DataFrame"
   ]
  },
  {
   "cell_type": "code",
   "execution_count": 14,
   "id": "4835c9df-1138-4e31-92ae-d9a30740ce71",
   "metadata": {},
   "outputs": [],
   "source": [
    "stations = pd.DataFrame(data['data']['stations'])"
   ]
  },
  {
   "cell_type": "markdown",
   "id": "7c0438ba-1abb-4dc9-882d-29a226cff785",
   "metadata": {},
   "source": [
    "# Saving to CSV"
   ]
  },
  {
   "cell_type": "code",
   "execution_count": 15,
   "id": "52b3a2be-315d-4e07-9226-c77833affee0",
   "metadata": {},
   "outputs": [],
   "source": [
    "stations.to_csv(\"citi_bike_stations.csv\",     index=False)\n"
   ]
  },
  {
   "cell_type": "code",
   "execution_count": 16,
   "id": "beb27eef-81ec-4ece-9b61-72c9603aa344",
   "metadata": {},
   "outputs": [
    {
     "name": "stdout",
     "output_type": "stream",
     "text": [
      "✅ CSV saved as citi_bike_stations.csv\n",
      "                             station_id station_type  \\\n",
      "0                   1905837242740508940      classic   \n",
      "1  66db3687-0aca-11e7-82f6-3863bb44ef7c      classic   \n",
      "2  576abdc1-986e-48b0-bde2-051a13d3ff59      classic   \n",
      "3  41495491-5d89-4e14-aab9-c3db04aad399      classic   \n",
      "4                   2100948436010992354      classic   \n",
      "\n",
      "                            external_id        lat  has_kiosk  \\\n",
      "0                   1905837242740508940  40.762110       True   \n",
      "1  66db3687-0aca-11e7-82f6-3863bb44ef7c  40.700379       True   \n",
      "2  576abdc1-986e-48b0-bde2-051a13d3ff59  40.744310       True   \n",
      "3  41495491-5d89-4e14-aab9-c3db04aad399  40.746927       True   \n",
      "4                   2100948436010992354  40.734247       True   \n",
      "\n",
      "   electric_bike_surcharge_waiver  eightd_has_key_dispenser  \\\n",
      "0                           False                     False   \n",
      "1                           False                     False   \n",
      "2                           False                     False   \n",
      "3                           False                     False   \n",
      "4                           False                     False   \n",
      "\n",
      "                              name        lon  capacity  \\\n",
      "0                 31 St & Broadway -73.925230        35   \n",
      "1  Columbia Heights & Cranberry St -73.995481        37   \n",
      "2              39 St & Queens Blvd -73.926010        21   \n",
      "3             43 St & Skillman Ave -73.920825        19   \n",
      "4      Review Ave & Greenpoint Ave -73.937768         3   \n",
      "\n",
      "                                         rental_uris     rental_methods  \\\n",
      "0  {'android': 'https://bkn.lft.to/lastmile_qr_sc...  [KEY, CREDITCARD]   \n",
      "1  {'android': 'https://bkn.lft.to/lastmile_qr_sc...  [KEY, CREDITCARD]   \n",
      "2  {'android': 'https://bkn.lft.to/lastmile_qr_sc...  [KEY, CREDITCARD]   \n",
      "3  {'android': 'https://bkn.lft.to/lastmile_qr_sc...  [KEY, CREDITCARD]   \n",
      "4  {'android': 'https://bkn.lft.to/lastmile_qr_sc...  [KEY, CREDITCARD]   \n",
      "\n",
      "  region_id short_name eightd_station_services  \n",
      "0        71    6789.20                      []  \n",
      "1        71    4829.01                      []  \n",
      "2        71    6218.04                      []  \n",
      "3        71    6325.01                      []  \n",
      "4        71    5883.08                      []  \n"
     ]
    }
   ],
   "source": [
    "print(\"✅ CSV saved as citi_bike_stations.csv\")\n",
    "print(stations.head())"
   ]
  },
  {
   "cell_type": "code",
   "execution_count": 17,
   "id": "f91880a2-5644-46fa-86cb-e987a688ca2e",
   "metadata": {},
   "outputs": [
    {
     "data": {
      "text/plain": [
       "<bound method NDFrame.head of                                 station_id station_type  \\\n",
       "0                      1905837242740508940      classic   \n",
       "1     66db3687-0aca-11e7-82f6-3863bb44ef7c      classic   \n",
       "2     576abdc1-986e-48b0-bde2-051a13d3ff59      classic   \n",
       "3     41495491-5d89-4e14-aab9-c3db04aad399      classic   \n",
       "4                      2100948436010992354      classic   \n",
       "...                                    ...          ...   \n",
       "2247                   2108372903577159978      classic   \n",
       "2248                   2108373337368856880      classic   \n",
       "2249  9d344652-976b-4c2d-bede-2ef19b0fbf13      classic   \n",
       "2250  b6a13f2b-deb4-4f4d-9d67-7d23bee27c88      classic   \n",
       "2251  cbc48689-7805-49dd-9669-5471f4b7b6fb      classic   \n",
       "\n",
       "                               external_id        lat  has_kiosk  \\\n",
       "0                      1905837242740508940  40.762110       True   \n",
       "1     66db3687-0aca-11e7-82f6-3863bb44ef7c  40.700379       True   \n",
       "2     576abdc1-986e-48b0-bde2-051a13d3ff59  40.744310       True   \n",
       "3     41495491-5d89-4e14-aab9-c3db04aad399  40.746927       True   \n",
       "4                      2100948436010992354  40.734247       True   \n",
       "...                                    ...        ...        ...   \n",
       "2247                   2108372903577159978  40.715750      False   \n",
       "2248                   2108373337368856880  40.711890      False   \n",
       "2249  9d344652-976b-4c2d-bede-2ef19b0fbf13  40.744398       True   \n",
       "2250  b6a13f2b-deb4-4f4d-9d67-7d23bee27c88  40.739153       True   \n",
       "2251  cbc48689-7805-49dd-9669-5471f4b7b6fb  40.735938       True   \n",
       "\n",
       "      electric_bike_surcharge_waiver  eightd_has_key_dispenser  \\\n",
       "0                              False                     False   \n",
       "1                              False                     False   \n",
       "2                              False                     False   \n",
       "3                              False                     False   \n",
       "4                              False                     False   \n",
       "...                              ...                       ...   \n",
       "2247                           False                     False   \n",
       "2248                           False                     False   \n",
       "2249                           False                     False   \n",
       "2250                           False                     False   \n",
       "2251                           False                     False   \n",
       "\n",
       "                                          name        lon  capacity  \\\n",
       "0                             31 St & Broadway -73.925230        35   \n",
       "1              Columbia Heights & Cranberry St -73.995481        37   \n",
       "2                          39 St & Queens Blvd -73.926010        21   \n",
       "3                         43 St & Skillman Ave -73.920825        19   \n",
       "4                  Review Ave & Greenpoint Ave -73.937768         3   \n",
       "...                                        ...        ...       ...   \n",
       "2247                     Union St & Bergen Ave -74.078870        15   \n",
       "2248                  Claremont Ave & JFK Blvd -74.083850        16   \n",
       "2249                           6 St & Grand St -74.034501        18   \n",
       "2250                           2 St & Park Ave -74.033082        15   \n",
       "2251  Hoboken Terminal - Hudson St & Hudson Pl -74.030305        24   \n",
       "\n",
       "                                            rental_uris     rental_methods  \\\n",
       "0     {'android': 'https://bkn.lft.to/lastmile_qr_sc...  [KEY, CREDITCARD]   \n",
       "1     {'android': 'https://bkn.lft.to/lastmile_qr_sc...  [KEY, CREDITCARD]   \n",
       "2     {'android': 'https://bkn.lft.to/lastmile_qr_sc...  [KEY, CREDITCARD]   \n",
       "3     {'android': 'https://bkn.lft.to/lastmile_qr_sc...  [KEY, CREDITCARD]   \n",
       "4     {'android': 'https://bkn.lft.to/lastmile_qr_sc...  [KEY, CREDITCARD]   \n",
       "...                                                 ...                ...   \n",
       "2247  {'android': 'https://bkn.lft.to/lastmile_qr_sc...  [KEY, CREDITCARD]   \n",
       "2248  {'android': 'https://bkn.lft.to/lastmile_qr_sc...  [KEY, CREDITCARD]   \n",
       "2249  {'android': 'https://bkn.lft.to/lastmile_qr_sc...  [KEY, CREDITCARD]   \n",
       "2250  {'android': 'https://bkn.lft.to/lastmile_qr_sc...  [KEY, CREDITCARD]   \n",
       "2251  {'android': 'https://bkn.lft.to/lastmile_qr_sc...  [KEY, CREDITCARD]   \n",
       "\n",
       "     region_id short_name eightd_station_services  \n",
       "0           71    6789.20                      []  \n",
       "1           71    4829.01                      []  \n",
       "2           71    6218.04                      []  \n",
       "3           71    6325.01                      []  \n",
       "4           71    5883.08                      []  \n",
       "...        ...        ...                     ...  \n",
       "2247        70      JC122                      []  \n",
       "2248        70      JC125                      []  \n",
       "2249       311      HB302                      []  \n",
       "2250       311      HB608                      []  \n",
       "2251       311      HB101                      []  \n",
       "\n",
       "[2252 rows x 15 columns]>"
      ]
     },
     "execution_count": 17,
     "metadata": {},
     "output_type": "execute_result"
    }
   ],
   "source": [
    "stations.head"
   ]
  },
  {
   "cell_type": "markdown",
   "id": "0e5086a6-d98e-4bbb-989d-1e5070ea7ec0",
   "metadata": {},
   "source": [
    "# Renaming columns and confirming its been done"
   ]
  },
  {
   "cell_type": "code",
   "execution_count": 18,
   "id": "b2abb94f-8d4d-4a3d-99a5-db2632da5c9a",
   "metadata": {},
   "outputs": [],
   "source": [
    "stations['start_station_name'] = stations['name']"
   ]
  },
  {
   "cell_type": "code",
   "execution_count": 19,
   "id": "712c7267-9b64-4d1e-82a6-4a4d68e9bf46",
   "metadata": {},
   "outputs": [
    {
     "data": {
      "text/html": [
       "<div>\n",
       "<style scoped>\n",
       "    .dataframe tbody tr th:only-of-type {\n",
       "        vertical-align: middle;\n",
       "    }\n",
       "\n",
       "    .dataframe tbody tr th {\n",
       "        vertical-align: top;\n",
       "    }\n",
       "\n",
       "    .dataframe thead th {\n",
       "        text-align: right;\n",
       "    }\n",
       "</style>\n",
       "<table border=\"1\" class=\"dataframe\">\n",
       "  <thead>\n",
       "    <tr style=\"text-align: right;\">\n",
       "      <th></th>\n",
       "      <th>station_id</th>\n",
       "      <th>station_type</th>\n",
       "      <th>external_id</th>\n",
       "      <th>lat</th>\n",
       "      <th>has_kiosk</th>\n",
       "      <th>electric_bike_surcharge_waiver</th>\n",
       "      <th>eightd_has_key_dispenser</th>\n",
       "      <th>name</th>\n",
       "      <th>lon</th>\n",
       "      <th>capacity</th>\n",
       "      <th>rental_uris</th>\n",
       "      <th>rental_methods</th>\n",
       "      <th>region_id</th>\n",
       "      <th>short_name</th>\n",
       "      <th>eightd_station_services</th>\n",
       "      <th>start_station_name</th>\n",
       "    </tr>\n",
       "  </thead>\n",
       "  <tbody>\n",
       "    <tr>\n",
       "      <th>0</th>\n",
       "      <td>1905837242740508940</td>\n",
       "      <td>classic</td>\n",
       "      <td>1905837242740508940</td>\n",
       "      <td>40.762110</td>\n",
       "      <td>True</td>\n",
       "      <td>False</td>\n",
       "      <td>False</td>\n",
       "      <td>31 St &amp; Broadway</td>\n",
       "      <td>-73.925230</td>\n",
       "      <td>35</td>\n",
       "      <td>{'android': 'https://bkn.lft.to/lastmile_qr_sc...</td>\n",
       "      <td>[KEY, CREDITCARD]</td>\n",
       "      <td>71</td>\n",
       "      <td>6789.20</td>\n",
       "      <td>[]</td>\n",
       "      <td>31 St &amp; Broadway</td>\n",
       "    </tr>\n",
       "    <tr>\n",
       "      <th>1</th>\n",
       "      <td>66db3687-0aca-11e7-82f6-3863bb44ef7c</td>\n",
       "      <td>classic</td>\n",
       "      <td>66db3687-0aca-11e7-82f6-3863bb44ef7c</td>\n",
       "      <td>40.700379</td>\n",
       "      <td>True</td>\n",
       "      <td>False</td>\n",
       "      <td>False</td>\n",
       "      <td>Columbia Heights &amp; Cranberry St</td>\n",
       "      <td>-73.995481</td>\n",
       "      <td>37</td>\n",
       "      <td>{'android': 'https://bkn.lft.to/lastmile_qr_sc...</td>\n",
       "      <td>[KEY, CREDITCARD]</td>\n",
       "      <td>71</td>\n",
       "      <td>4829.01</td>\n",
       "      <td>[]</td>\n",
       "      <td>Columbia Heights &amp; Cranberry St</td>\n",
       "    </tr>\n",
       "    <tr>\n",
       "      <th>2</th>\n",
       "      <td>576abdc1-986e-48b0-bde2-051a13d3ff59</td>\n",
       "      <td>classic</td>\n",
       "      <td>576abdc1-986e-48b0-bde2-051a13d3ff59</td>\n",
       "      <td>40.744310</td>\n",
       "      <td>True</td>\n",
       "      <td>False</td>\n",
       "      <td>False</td>\n",
       "      <td>39 St &amp; Queens Blvd</td>\n",
       "      <td>-73.926010</td>\n",
       "      <td>21</td>\n",
       "      <td>{'android': 'https://bkn.lft.to/lastmile_qr_sc...</td>\n",
       "      <td>[KEY, CREDITCARD]</td>\n",
       "      <td>71</td>\n",
       "      <td>6218.04</td>\n",
       "      <td>[]</td>\n",
       "      <td>39 St &amp; Queens Blvd</td>\n",
       "    </tr>\n",
       "    <tr>\n",
       "      <th>3</th>\n",
       "      <td>41495491-5d89-4e14-aab9-c3db04aad399</td>\n",
       "      <td>classic</td>\n",
       "      <td>41495491-5d89-4e14-aab9-c3db04aad399</td>\n",
       "      <td>40.746927</td>\n",
       "      <td>True</td>\n",
       "      <td>False</td>\n",
       "      <td>False</td>\n",
       "      <td>43 St &amp; Skillman Ave</td>\n",
       "      <td>-73.920825</td>\n",
       "      <td>19</td>\n",
       "      <td>{'android': 'https://bkn.lft.to/lastmile_qr_sc...</td>\n",
       "      <td>[KEY, CREDITCARD]</td>\n",
       "      <td>71</td>\n",
       "      <td>6325.01</td>\n",
       "      <td>[]</td>\n",
       "      <td>43 St &amp; Skillman Ave</td>\n",
       "    </tr>\n",
       "    <tr>\n",
       "      <th>4</th>\n",
       "      <td>2100948436010992354</td>\n",
       "      <td>classic</td>\n",
       "      <td>2100948436010992354</td>\n",
       "      <td>40.734247</td>\n",
       "      <td>True</td>\n",
       "      <td>False</td>\n",
       "      <td>False</td>\n",
       "      <td>Review Ave &amp; Greenpoint Ave</td>\n",
       "      <td>-73.937768</td>\n",
       "      <td>3</td>\n",
       "      <td>{'android': 'https://bkn.lft.to/lastmile_qr_sc...</td>\n",
       "      <td>[KEY, CREDITCARD]</td>\n",
       "      <td>71</td>\n",
       "      <td>5883.08</td>\n",
       "      <td>[]</td>\n",
       "      <td>Review Ave &amp; Greenpoint Ave</td>\n",
       "    </tr>\n",
       "  </tbody>\n",
       "</table>\n",
       "</div>"
      ],
      "text/plain": [
       "                             station_id station_type  \\\n",
       "0                   1905837242740508940      classic   \n",
       "1  66db3687-0aca-11e7-82f6-3863bb44ef7c      classic   \n",
       "2  576abdc1-986e-48b0-bde2-051a13d3ff59      classic   \n",
       "3  41495491-5d89-4e14-aab9-c3db04aad399      classic   \n",
       "4                   2100948436010992354      classic   \n",
       "\n",
       "                            external_id        lat  has_kiosk  \\\n",
       "0                   1905837242740508940  40.762110       True   \n",
       "1  66db3687-0aca-11e7-82f6-3863bb44ef7c  40.700379       True   \n",
       "2  576abdc1-986e-48b0-bde2-051a13d3ff59  40.744310       True   \n",
       "3  41495491-5d89-4e14-aab9-c3db04aad399  40.746927       True   \n",
       "4                   2100948436010992354  40.734247       True   \n",
       "\n",
       "   electric_bike_surcharge_waiver  eightd_has_key_dispenser  \\\n",
       "0                           False                     False   \n",
       "1                           False                     False   \n",
       "2                           False                     False   \n",
       "3                           False                     False   \n",
       "4                           False                     False   \n",
       "\n",
       "                              name        lon  capacity  \\\n",
       "0                 31 St & Broadway -73.925230        35   \n",
       "1  Columbia Heights & Cranberry St -73.995481        37   \n",
       "2              39 St & Queens Blvd -73.926010        21   \n",
       "3             43 St & Skillman Ave -73.920825        19   \n",
       "4      Review Ave & Greenpoint Ave -73.937768         3   \n",
       "\n",
       "                                         rental_uris     rental_methods  \\\n",
       "0  {'android': 'https://bkn.lft.to/lastmile_qr_sc...  [KEY, CREDITCARD]   \n",
       "1  {'android': 'https://bkn.lft.to/lastmile_qr_sc...  [KEY, CREDITCARD]   \n",
       "2  {'android': 'https://bkn.lft.to/lastmile_qr_sc...  [KEY, CREDITCARD]   \n",
       "3  {'android': 'https://bkn.lft.to/lastmile_qr_sc...  [KEY, CREDITCARD]   \n",
       "4  {'android': 'https://bkn.lft.to/lastmile_qr_sc...  [KEY, CREDITCARD]   \n",
       "\n",
       "  region_id short_name eightd_station_services  \\\n",
       "0        71    6789.20                      []   \n",
       "1        71    4829.01                      []   \n",
       "2        71    6218.04                      []   \n",
       "3        71    6325.01                      []   \n",
       "4        71    5883.08                      []   \n",
       "\n",
       "                start_station_name  \n",
       "0                 31 St & Broadway  \n",
       "1  Columbia Heights & Cranberry St  \n",
       "2              39 St & Queens Blvd  \n",
       "3             43 St & Skillman Ave  \n",
       "4      Review Ave & Greenpoint Ave  "
      ]
     },
     "execution_count": 19,
     "metadata": {},
     "output_type": "execute_result"
    }
   ],
   "source": [
    "stations.head()"
   ]
  },
  {
   "cell_type": "code",
   "execution_count": 20,
   "id": "19ec36a0-9272-4e1a-a48c-5c12f8694ee1",
   "metadata": {},
   "outputs": [],
   "source": [
    "stations.rename(columns = {'name': 'end_station_name', 'lat': 'Latitude', 'lon': 'Longitude'}, inplace = True)"
   ]
  },
  {
   "cell_type": "code",
   "execution_count": 21,
   "id": "ae985b64-6a49-4829-b71e-c806bca1dcf9",
   "metadata": {},
   "outputs": [],
   "source": [
    "stations.reset_index(inplace=True, names=\"old_index\")"
   ]
  },
  {
   "cell_type": "code",
   "execution_count": 23,
   "id": "3ac54789-e12a-4e81-9f16-12dfd3371b5f",
   "metadata": {},
   "outputs": [],
   "source": [
    "stations = stations[['end_station_name', 'start_station_name', 'Latitude', 'Longitude']]"
   ]
  },
  {
   "cell_type": "code",
   "execution_count": 24,
   "id": "2fc7f1e6-ca96-4f4f-b297-4a3ab00bfe6c",
   "metadata": {},
   "outputs": [
    {
     "data": {
      "text/html": [
       "<div>\n",
       "<style scoped>\n",
       "    .dataframe tbody tr th:only-of-type {\n",
       "        vertical-align: middle;\n",
       "    }\n",
       "\n",
       "    .dataframe tbody tr th {\n",
       "        vertical-align: top;\n",
       "    }\n",
       "\n",
       "    .dataframe thead th {\n",
       "        text-align: right;\n",
       "    }\n",
       "</style>\n",
       "<table border=\"1\" class=\"dataframe\">\n",
       "  <thead>\n",
       "    <tr style=\"text-align: right;\">\n",
       "      <th></th>\n",
       "      <th>end_station_name</th>\n",
       "      <th>start_station_name</th>\n",
       "      <th>Latitude</th>\n",
       "      <th>Longitude</th>\n",
       "    </tr>\n",
       "  </thead>\n",
       "  <tbody>\n",
       "    <tr>\n",
       "      <th>0</th>\n",
       "      <td>31 St &amp; Broadway</td>\n",
       "      <td>31 St &amp; Broadway</td>\n",
       "      <td>40.762110</td>\n",
       "      <td>-73.925230</td>\n",
       "    </tr>\n",
       "    <tr>\n",
       "      <th>1</th>\n",
       "      <td>Columbia Heights &amp; Cranberry St</td>\n",
       "      <td>Columbia Heights &amp; Cranberry St</td>\n",
       "      <td>40.700379</td>\n",
       "      <td>-73.995481</td>\n",
       "    </tr>\n",
       "    <tr>\n",
       "      <th>2</th>\n",
       "      <td>39 St &amp; Queens Blvd</td>\n",
       "      <td>39 St &amp; Queens Blvd</td>\n",
       "      <td>40.744310</td>\n",
       "      <td>-73.926010</td>\n",
       "    </tr>\n",
       "    <tr>\n",
       "      <th>3</th>\n",
       "      <td>43 St &amp; Skillman Ave</td>\n",
       "      <td>43 St &amp; Skillman Ave</td>\n",
       "      <td>40.746927</td>\n",
       "      <td>-73.920825</td>\n",
       "    </tr>\n",
       "    <tr>\n",
       "      <th>4</th>\n",
       "      <td>Review Ave &amp; Greenpoint Ave</td>\n",
       "      <td>Review Ave &amp; Greenpoint Ave</td>\n",
       "      <td>40.734247</td>\n",
       "      <td>-73.937768</td>\n",
       "    </tr>\n",
       "    <tr>\n",
       "      <th>...</th>\n",
       "      <td>...</td>\n",
       "      <td>...</td>\n",
       "      <td>...</td>\n",
       "      <td>...</td>\n",
       "    </tr>\n",
       "    <tr>\n",
       "      <th>2247</th>\n",
       "      <td>Union St &amp; Bergen Ave</td>\n",
       "      <td>Union St &amp; Bergen Ave</td>\n",
       "      <td>40.715750</td>\n",
       "      <td>-74.078870</td>\n",
       "    </tr>\n",
       "    <tr>\n",
       "      <th>2248</th>\n",
       "      <td>Claremont Ave &amp; JFK Blvd</td>\n",
       "      <td>Claremont Ave &amp; JFK Blvd</td>\n",
       "      <td>40.711890</td>\n",
       "      <td>-74.083850</td>\n",
       "    </tr>\n",
       "    <tr>\n",
       "      <th>2249</th>\n",
       "      <td>6 St &amp; Grand St</td>\n",
       "      <td>6 St &amp; Grand St</td>\n",
       "      <td>40.744398</td>\n",
       "      <td>-74.034501</td>\n",
       "    </tr>\n",
       "    <tr>\n",
       "      <th>2250</th>\n",
       "      <td>2 St &amp; Park Ave</td>\n",
       "      <td>2 St &amp; Park Ave</td>\n",
       "      <td>40.739153</td>\n",
       "      <td>-74.033082</td>\n",
       "    </tr>\n",
       "    <tr>\n",
       "      <th>2251</th>\n",
       "      <td>Hoboken Terminal - Hudson St &amp; Hudson Pl</td>\n",
       "      <td>Hoboken Terminal - Hudson St &amp; Hudson Pl</td>\n",
       "      <td>40.735938</td>\n",
       "      <td>-74.030305</td>\n",
       "    </tr>\n",
       "  </tbody>\n",
       "</table>\n",
       "<p>2252 rows × 4 columns</p>\n",
       "</div>"
      ],
      "text/plain": [
       "                              end_station_name  \\\n",
       "0                             31 St & Broadway   \n",
       "1              Columbia Heights & Cranberry St   \n",
       "2                          39 St & Queens Blvd   \n",
       "3                         43 St & Skillman Ave   \n",
       "4                  Review Ave & Greenpoint Ave   \n",
       "...                                        ...   \n",
       "2247                     Union St & Bergen Ave   \n",
       "2248                  Claremont Ave & JFK Blvd   \n",
       "2249                           6 St & Grand St   \n",
       "2250                           2 St & Park Ave   \n",
       "2251  Hoboken Terminal - Hudson St & Hudson Pl   \n",
       "\n",
       "                            start_station_name   Latitude  Longitude  \n",
       "0                             31 St & Broadway  40.762110 -73.925230  \n",
       "1              Columbia Heights & Cranberry St  40.700379 -73.995481  \n",
       "2                          39 St & Queens Blvd  40.744310 -73.926010  \n",
       "3                         43 St & Skillman Ave  40.746927 -73.920825  \n",
       "4                  Review Ave & Greenpoint Ave  40.734247 -73.937768  \n",
       "...                                        ...        ...        ...  \n",
       "2247                     Union St & Bergen Ave  40.715750 -74.078870  \n",
       "2248                  Claremont Ave & JFK Blvd  40.711890 -74.083850  \n",
       "2249                           6 St & Grand St  40.744398 -74.034501  \n",
       "2250                           2 St & Park Ave  40.739153 -74.033082  \n",
       "2251  Hoboken Terminal - Hudson St & Hudson Pl  40.735938 -74.030305  \n",
       "\n",
       "[2252 rows x 4 columns]"
      ]
     },
     "execution_count": 24,
     "metadata": {},
     "output_type": "execute_result"
    }
   ],
   "source": [
    "stations"
   ]
  },
  {
   "cell_type": "markdown",
   "id": "5421e851-2f3f-485c-94ab-7a1f2343efd0",
   "metadata": {},
   "source": [
    "##### Merging _By start station_"
   ]
  },
  {
   "cell_type": "code",
   "execution_count": 25,
   "id": "a97088a6-9bc3-4bba-b930-f2f9fd80cc27",
   "metadata": {},
   "outputs": [],
   "source": [
    "stations_m = df_group.merge(stations, how = 'outer', on = \"start_station_name\", indicator = 'merge_flag')"
   ]
  },
  {
   "cell_type": "code",
   "execution_count": 26,
   "id": "9ec6c738-5e8f-4fed-ae79-f393a664c9c8",
   "metadata": {},
   "outputs": [
    {
     "data": {
      "text/plain": [
       "merge_flag\n",
       "both          186302\n",
       "left_only      20366\n",
       "right_only       874\n",
       "Name: count, dtype: int64"
      ]
     },
     "execution_count": 26,
     "metadata": {},
     "output_type": "execute_result"
    }
   ],
   "source": [
    "stations_m['merge_flag'].value_counts(dropna = False)"
   ]
  },
  {
   "cell_type": "code",
   "execution_count": 27,
   "id": "6fd4c158-0130-4af1-85e8-5d90d760fb9b",
   "metadata": {},
   "outputs": [],
   "source": [
    "stations_m = stations_m[stations_m['merge_flag'] =='both']"
   ]
  },
  {
   "cell_type": "code",
   "execution_count": 28,
   "id": "ad6e0881-a1aa-4a05-9d72-6d9f587f07fe",
   "metadata": {},
   "outputs": [
    {
     "data": {
      "text/plain": [
       "(186302, 7)"
      ]
     },
     "execution_count": 28,
     "metadata": {},
     "output_type": "execute_result"
    }
   ],
   "source": [
    "stations_m.shape"
   ]
  },
  {
   "cell_type": "markdown",
   "id": "e411855b-df33-48c1-bb8f-177ebca0fb83",
   "metadata": {},
   "source": [
    "# confirming its been done"
   ]
  },
  {
   "cell_type": "code",
   "execution_count": 29,
   "id": "f823252a-5f97-40db-9c3a-58e4a98435d6",
   "metadata": {},
   "outputs": [
    {
     "data": {
      "text/html": [
       "<div>\n",
       "<style scoped>\n",
       "    .dataframe tbody tr th:only-of-type {\n",
       "        vertical-align: middle;\n",
       "    }\n",
       "\n",
       "    .dataframe tbody tr th {\n",
       "        vertical-align: top;\n",
       "    }\n",
       "\n",
       "    .dataframe thead th {\n",
       "        text-align: right;\n",
       "    }\n",
       "</style>\n",
       "<table border=\"1\" class=\"dataframe\">\n",
       "  <thead>\n",
       "    <tr style=\"text-align: right;\">\n",
       "      <th></th>\n",
       "      <th>start_station_name</th>\n",
       "      <th>end_station_name_x</th>\n",
       "      <th>value</th>\n",
       "      <th>end_station_name_y</th>\n",
       "      <th>Latitude</th>\n",
       "      <th>Longitude</th>\n",
       "      <th>merge_flag</th>\n",
       "    </tr>\n",
       "  </thead>\n",
       "  <tbody>\n",
       "    <tr>\n",
       "      <th>0</th>\n",
       "      <td>1 Ave &amp; E 110 St</td>\n",
       "      <td>1 Ave &amp; E 110 St</td>\n",
       "      <td>27.0</td>\n",
       "      <td>1 Ave &amp; E 110 St</td>\n",
       "      <td>40.792327</td>\n",
       "      <td>-73.9383</td>\n",
       "      <td>both</td>\n",
       "    </tr>\n",
       "    <tr>\n",
       "      <th>1</th>\n",
       "      <td>1 Ave &amp; E 110 St</td>\n",
       "      <td>1 Ave &amp; E 44 St</td>\n",
       "      <td>2.0</td>\n",
       "      <td>1 Ave &amp; E 110 St</td>\n",
       "      <td>40.792327</td>\n",
       "      <td>-73.9383</td>\n",
       "      <td>both</td>\n",
       "    </tr>\n",
       "    <tr>\n",
       "      <th>2</th>\n",
       "      <td>1 Ave &amp; E 110 St</td>\n",
       "      <td>1 Ave &amp; E 68 St</td>\n",
       "      <td>1.0</td>\n",
       "      <td>1 Ave &amp; E 110 St</td>\n",
       "      <td>40.792327</td>\n",
       "      <td>-73.9383</td>\n",
       "      <td>both</td>\n",
       "    </tr>\n",
       "    <tr>\n",
       "      <th>3</th>\n",
       "      <td>1 Ave &amp; E 110 St</td>\n",
       "      <td>1 Ave &amp; E 78 St</td>\n",
       "      <td>3.0</td>\n",
       "      <td>1 Ave &amp; E 110 St</td>\n",
       "      <td>40.792327</td>\n",
       "      <td>-73.9383</td>\n",
       "      <td>both</td>\n",
       "    </tr>\n",
       "    <tr>\n",
       "      <th>4</th>\n",
       "      <td>1 Ave &amp; E 110 St</td>\n",
       "      <td>1 Ave &amp; E 94 St</td>\n",
       "      <td>15.0</td>\n",
       "      <td>1 Ave &amp; E 110 St</td>\n",
       "      <td>40.792327</td>\n",
       "      <td>-73.9383</td>\n",
       "      <td>both</td>\n",
       "    </tr>\n",
       "  </tbody>\n",
       "</table>\n",
       "</div>"
      ],
      "text/plain": [
       "  start_station_name end_station_name_x  value end_station_name_y   Latitude  \\\n",
       "0   1 Ave & E 110 St   1 Ave & E 110 St   27.0   1 Ave & E 110 St  40.792327   \n",
       "1   1 Ave & E 110 St    1 Ave & E 44 St    2.0   1 Ave & E 110 St  40.792327   \n",
       "2   1 Ave & E 110 St    1 Ave & E 68 St    1.0   1 Ave & E 110 St  40.792327   \n",
       "3   1 Ave & E 110 St    1 Ave & E 78 St    3.0   1 Ave & E 110 St  40.792327   \n",
       "4   1 Ave & E 110 St    1 Ave & E 94 St   15.0   1 Ave & E 110 St  40.792327   \n",
       "\n",
       "   Longitude merge_flag  \n",
       "0   -73.9383       both  \n",
       "1   -73.9383       both  \n",
       "2   -73.9383       both  \n",
       "3   -73.9383       both  \n",
       "4   -73.9383       both  "
      ]
     },
     "execution_count": 29,
     "metadata": {},
     "output_type": "execute_result"
    }
   ],
   "source": [
    "stations_m.head()"
   ]
  },
  {
   "cell_type": "code",
   "execution_count": 30,
   "id": "079ba3d4-ea38-4d4c-83ab-f3285b7f6d33",
   "metadata": {},
   "outputs": [],
   "source": [
    "stations_m.drop(columns = {'end_station_name_y'}, inplace = True)"
   ]
  },
  {
   "cell_type": "code",
   "execution_count": 31,
   "id": "90266738-1b0e-40fc-bc4b-c91fa383c311",
   "metadata": {},
   "outputs": [],
   "source": [
    "stations_m.rename(columns = {'end_station_name_x' : 'end_station_name'}, inplace = True)"
   ]
  },
  {
   "cell_type": "markdown",
   "id": "7f260437-bccf-4bda-8cd4-2803f89d1c8b",
   "metadata": {},
   "source": [
    "##### merging_By end station_"
   ]
  },
  {
   "cell_type": "code",
   "execution_count": 32,
   "id": "38aba8ed-1a16-4bac-8694-c1e0b3e2524d",
   "metadata": {},
   "outputs": [],
   "source": [
    "df_final = stations_m.merge(stations, how = 'outer', on = \"end_station_name\", indicator = 'merge_flag_2')"
   ]
  },
  {
   "cell_type": "code",
   "execution_count": 33,
   "id": "1531e84d-1058-46ad-abeb-7f0dd7acb39f",
   "metadata": {},
   "outputs": [
    {
     "data": {
      "text/plain": [
       "merge_flag_2\n",
       "both          168794\n",
       "left_only      18096\n",
       "right_only       872\n",
       "Name: count, dtype: int64"
      ]
     },
     "execution_count": 33,
     "metadata": {},
     "output_type": "execute_result"
    }
   ],
   "source": [
    "df_final['merge_flag_2'].value_counts(dropna = False)"
   ]
  },
  {
   "cell_type": "markdown",
   "id": "678cade9-b2da-49f7-83a2-5ce639959b77",
   "metadata": {},
   "source": [
    "# confirming its been done"
   ]
  },
  {
   "cell_type": "code",
   "execution_count": 34,
   "id": "a003b10c-cff4-4a00-a551-25dfdc7848c2",
   "metadata": {},
   "outputs": [
    {
     "data": {
      "text/html": [
       "<div>\n",
       "<style scoped>\n",
       "    .dataframe tbody tr th:only-of-type {\n",
       "        vertical-align: middle;\n",
       "    }\n",
       "\n",
       "    .dataframe tbody tr th {\n",
       "        vertical-align: top;\n",
       "    }\n",
       "\n",
       "    .dataframe thead th {\n",
       "        text-align: right;\n",
       "    }\n",
       "</style>\n",
       "<table border=\"1\" class=\"dataframe\">\n",
       "  <thead>\n",
       "    <tr style=\"text-align: right;\">\n",
       "      <th></th>\n",
       "      <th>start_station_name_x</th>\n",
       "      <th>end_station_name</th>\n",
       "      <th>value</th>\n",
       "      <th>Latitude_x</th>\n",
       "      <th>Longitude_x</th>\n",
       "      <th>merge_flag</th>\n",
       "      <th>start_station_name_y</th>\n",
       "      <th>Latitude_y</th>\n",
       "      <th>Longitude_y</th>\n",
       "      <th>merge_flag_2</th>\n",
       "    </tr>\n",
       "  </thead>\n",
       "  <tbody>\n",
       "    <tr>\n",
       "      <th>0</th>\n",
       "      <td>1 Ave &amp; E 110 St</td>\n",
       "      <td>1 Ave &amp; E 110 St</td>\n",
       "      <td>27.0</td>\n",
       "      <td>40.792327</td>\n",
       "      <td>-73.938300</td>\n",
       "      <td>both</td>\n",
       "      <td>1 Ave &amp; E 110 St</td>\n",
       "      <td>40.792327</td>\n",
       "      <td>-73.9383</td>\n",
       "      <td>both</td>\n",
       "    </tr>\n",
       "    <tr>\n",
       "      <th>1</th>\n",
       "      <td>1 Ave &amp; E 30 St</td>\n",
       "      <td>1 Ave &amp; E 110 St</td>\n",
       "      <td>2.0</td>\n",
       "      <td>40.741444</td>\n",
       "      <td>-73.975361</td>\n",
       "      <td>both</td>\n",
       "      <td>1 Ave &amp; E 110 St</td>\n",
       "      <td>40.792327</td>\n",
       "      <td>-73.9383</td>\n",
       "      <td>both</td>\n",
       "    </tr>\n",
       "    <tr>\n",
       "      <th>2</th>\n",
       "      <td>1 Ave &amp; E 44 St</td>\n",
       "      <td>1 Ave &amp; E 110 St</td>\n",
       "      <td>12.0</td>\n",
       "      <td>40.750020</td>\n",
       "      <td>-73.969053</td>\n",
       "      <td>both</td>\n",
       "      <td>1 Ave &amp; E 110 St</td>\n",
       "      <td>40.792327</td>\n",
       "      <td>-73.9383</td>\n",
       "      <td>both</td>\n",
       "    </tr>\n",
       "    <tr>\n",
       "      <th>3</th>\n",
       "      <td>1 Ave &amp; E 62 St</td>\n",
       "      <td>1 Ave &amp; E 110 St</td>\n",
       "      <td>2.0</td>\n",
       "      <td>40.761227</td>\n",
       "      <td>-73.960940</td>\n",
       "      <td>both</td>\n",
       "      <td>1 Ave &amp; E 110 St</td>\n",
       "      <td>40.792327</td>\n",
       "      <td>-73.9383</td>\n",
       "      <td>both</td>\n",
       "    </tr>\n",
       "    <tr>\n",
       "      <th>4</th>\n",
       "      <td>1 Ave &amp; E 68 St</td>\n",
       "      <td>1 Ave &amp; E 110 St</td>\n",
       "      <td>26.0</td>\n",
       "      <td>40.765005</td>\n",
       "      <td>-73.958185</td>\n",
       "      <td>both</td>\n",
       "      <td>1 Ave &amp; E 110 St</td>\n",
       "      <td>40.792327</td>\n",
       "      <td>-73.9383</td>\n",
       "      <td>both</td>\n",
       "    </tr>\n",
       "  </tbody>\n",
       "</table>\n",
       "</div>"
      ],
      "text/plain": [
       "  start_station_name_x  end_station_name  value  Latitude_x  Longitude_x  \\\n",
       "0     1 Ave & E 110 St  1 Ave & E 110 St   27.0   40.792327   -73.938300   \n",
       "1      1 Ave & E 30 St  1 Ave & E 110 St    2.0   40.741444   -73.975361   \n",
       "2      1 Ave & E 44 St  1 Ave & E 110 St   12.0   40.750020   -73.969053   \n",
       "3      1 Ave & E 62 St  1 Ave & E 110 St    2.0   40.761227   -73.960940   \n",
       "4      1 Ave & E 68 St  1 Ave & E 110 St   26.0   40.765005   -73.958185   \n",
       "\n",
       "  merge_flag start_station_name_y  Latitude_y  Longitude_y merge_flag_2  \n",
       "0       both     1 Ave & E 110 St   40.792327     -73.9383         both  \n",
       "1       both     1 Ave & E 110 St   40.792327     -73.9383         both  \n",
       "2       both     1 Ave & E 110 St   40.792327     -73.9383         both  \n",
       "3       both     1 Ave & E 110 St   40.792327     -73.9383         both  \n",
       "4       both     1 Ave & E 110 St   40.792327     -73.9383         both  "
      ]
     },
     "execution_count": 34,
     "metadata": {},
     "output_type": "execute_result"
    }
   ],
   "source": [
    "df_final.head()"
   ]
  },
  {
   "cell_type": "code",
   "execution_count": 35,
   "id": "14a2d0c2-71e7-4f28-982f-8cb969e21441",
   "metadata": {},
   "outputs": [],
   "source": [
    "df_final = df_final[df_final['merge_flag_2'] =='both']"
   ]
  },
  {
   "cell_type": "code",
   "execution_count": 36,
   "id": "b47e4deb-4188-4942-8804-7f525257ac87",
   "metadata": {},
   "outputs": [],
   "source": [
    "df_final.drop(columns = {'start_station_name_y', 'merge_flag', 'merge_flag_2'}, inplace = True)"
   ]
  },
  {
   "cell_type": "code",
   "execution_count": 37,
   "id": "dd962d80-2b50-4f7c-852c-6bd631e54abc",
   "metadata": {},
   "outputs": [],
   "source": [
    "df_final.rename(columns = {'start_station_name_x' : 'start_station_name'}, inplace = True)"
   ]
  },
  {
   "cell_type": "code",
   "execution_count": 38,
   "id": "e69dc4d8-2052-42b2-85ec-a6dbebc7d61c",
   "metadata": {},
   "outputs": [
    {
     "data": {
      "text/html": [
       "<div>\n",
       "<style scoped>\n",
       "    .dataframe tbody tr th:only-of-type {\n",
       "        vertical-align: middle;\n",
       "    }\n",
       "\n",
       "    .dataframe tbody tr th {\n",
       "        vertical-align: top;\n",
       "    }\n",
       "\n",
       "    .dataframe thead th {\n",
       "        text-align: right;\n",
       "    }\n",
       "</style>\n",
       "<table border=\"1\" class=\"dataframe\">\n",
       "  <thead>\n",
       "    <tr style=\"text-align: right;\">\n",
       "      <th></th>\n",
       "      <th>start_station_name</th>\n",
       "      <th>end_station_name</th>\n",
       "      <th>value</th>\n",
       "      <th>Latitude_x</th>\n",
       "      <th>Longitude_x</th>\n",
       "      <th>Latitude_y</th>\n",
       "      <th>Longitude_y</th>\n",
       "    </tr>\n",
       "  </thead>\n",
       "  <tbody>\n",
       "    <tr>\n",
       "      <th>0</th>\n",
       "      <td>1 Ave &amp; E 110 St</td>\n",
       "      <td>1 Ave &amp; E 110 St</td>\n",
       "      <td>27.0</td>\n",
       "      <td>40.792327</td>\n",
       "      <td>-73.938300</td>\n",
       "      <td>40.792327</td>\n",
       "      <td>-73.9383</td>\n",
       "    </tr>\n",
       "    <tr>\n",
       "      <th>1</th>\n",
       "      <td>1 Ave &amp; E 30 St</td>\n",
       "      <td>1 Ave &amp; E 110 St</td>\n",
       "      <td>2.0</td>\n",
       "      <td>40.741444</td>\n",
       "      <td>-73.975361</td>\n",
       "      <td>40.792327</td>\n",
       "      <td>-73.9383</td>\n",
       "    </tr>\n",
       "    <tr>\n",
       "      <th>2</th>\n",
       "      <td>1 Ave &amp; E 44 St</td>\n",
       "      <td>1 Ave &amp; E 110 St</td>\n",
       "      <td>12.0</td>\n",
       "      <td>40.750020</td>\n",
       "      <td>-73.969053</td>\n",
       "      <td>40.792327</td>\n",
       "      <td>-73.9383</td>\n",
       "    </tr>\n",
       "    <tr>\n",
       "      <th>3</th>\n",
       "      <td>1 Ave &amp; E 62 St</td>\n",
       "      <td>1 Ave &amp; E 110 St</td>\n",
       "      <td>2.0</td>\n",
       "      <td>40.761227</td>\n",
       "      <td>-73.960940</td>\n",
       "      <td>40.792327</td>\n",
       "      <td>-73.9383</td>\n",
       "    </tr>\n",
       "    <tr>\n",
       "      <th>4</th>\n",
       "      <td>1 Ave &amp; E 68 St</td>\n",
       "      <td>1 Ave &amp; E 110 St</td>\n",
       "      <td>26.0</td>\n",
       "      <td>40.765005</td>\n",
       "      <td>-73.958185</td>\n",
       "      <td>40.792327</td>\n",
       "      <td>-73.9383</td>\n",
       "    </tr>\n",
       "  </tbody>\n",
       "</table>\n",
       "</div>"
      ],
      "text/plain": [
       "  start_station_name  end_station_name  value  Latitude_x  Longitude_x  \\\n",
       "0   1 Ave & E 110 St  1 Ave & E 110 St   27.0   40.792327   -73.938300   \n",
       "1    1 Ave & E 30 St  1 Ave & E 110 St    2.0   40.741444   -73.975361   \n",
       "2    1 Ave & E 44 St  1 Ave & E 110 St   12.0   40.750020   -73.969053   \n",
       "3    1 Ave & E 62 St  1 Ave & E 110 St    2.0   40.761227   -73.960940   \n",
       "4    1 Ave & E 68 St  1 Ave & E 110 St   26.0   40.765005   -73.958185   \n",
       "\n",
       "   Latitude_y  Longitude_y  \n",
       "0   40.792327     -73.9383  \n",
       "1   40.792327     -73.9383  \n",
       "2   40.792327     -73.9383  \n",
       "3   40.792327     -73.9383  \n",
       "4   40.792327     -73.9383  "
      ]
     },
     "execution_count": 38,
     "metadata": {},
     "output_type": "execute_result"
    }
   ],
   "source": [
    "df_final.head()"
   ]
  },
  {
   "cell_type": "code",
   "execution_count": 39,
   "id": "2ad0063c-5018-4567-88c5-a7051c898d9b",
   "metadata": {},
   "outputs": [],
   "source": [
    "# Sample 20% of the rows\n",
    "df_sampled = df_final.sample(frac=0.2, random_state=42)"
   ]
  },
  {
   "cell_type": "code",
   "execution_count": 40,
   "id": "a00f4cd2-21b2-4f7d-8bda-5427a89461f6",
   "metadata": {},
   "outputs": [
    {
     "data": {
      "text/plain": [
       "9502"
      ]
     },
     "execution_count": 40,
     "metadata": {},
     "output_type": "execute_result"
    }
   ],
   "source": [
    "import gc # this is garbage collector which speeds up performance\n",
    "gc.collect()"
   ]
  },
  {
   "cell_type": "code",
   "execution_count": 41,
   "id": "16403feb-7f31-4fbb-a8da-66c2c02687a3",
   "metadata": {},
   "outputs": [
    {
     "data": {
      "text/html": [
       "<div>\n",
       "<style scoped>\n",
       "    .dataframe tbody tr th:only-of-type {\n",
       "        vertical-align: middle;\n",
       "    }\n",
       "\n",
       "    .dataframe tbody tr th {\n",
       "        vertical-align: top;\n",
       "    }\n",
       "\n",
       "    .dataframe thead th {\n",
       "        text-align: right;\n",
       "    }\n",
       "</style>\n",
       "<table border=\"1\" class=\"dataframe\">\n",
       "  <thead>\n",
       "    <tr style=\"text-align: right;\">\n",
       "      <th></th>\n",
       "      <th>start_station_name</th>\n",
       "      <th>end_station_name</th>\n",
       "      <th>value</th>\n",
       "      <th>Latitude_x</th>\n",
       "      <th>Longitude_x</th>\n",
       "      <th>Latitude_y</th>\n",
       "      <th>Longitude_y</th>\n",
       "    </tr>\n",
       "  </thead>\n",
       "  <tbody>\n",
       "    <tr>\n",
       "      <th>89095</th>\n",
       "      <td>E 55 St &amp; 2 Ave</td>\n",
       "      <td>E 72 St &amp; York Ave</td>\n",
       "      <td>8.0</td>\n",
       "      <td>40.757973</td>\n",
       "      <td>-73.966033</td>\n",
       "      <td>40.766638</td>\n",
       "      <td>-73.953483</td>\n",
       "    </tr>\n",
       "    <tr>\n",
       "      <th>164732</th>\n",
       "      <td>Botanical Sq &amp; Webster Ave</td>\n",
       "      <td>W 218 St &amp; Broadway</td>\n",
       "      <td>3.0</td>\n",
       "      <td>40.868140</td>\n",
       "      <td>-73.881450</td>\n",
       "      <td>40.871390</td>\n",
       "      <td>-73.914318</td>\n",
       "    </tr>\n",
       "    <tr>\n",
       "      <th>53674</th>\n",
       "      <td>W 100 St &amp; Broadway</td>\n",
       "      <td>Centre St &amp; Chambers St</td>\n",
       "      <td>1.0</td>\n",
       "      <td>40.797372</td>\n",
       "      <td>-73.970412</td>\n",
       "      <td>40.712733</td>\n",
       "      <td>-74.004607</td>\n",
       "    </tr>\n",
       "    <tr>\n",
       "      <th>29557</th>\n",
       "      <td>W 159 St &amp; Edgecombe Ave</td>\n",
       "      <td>Adam Clayton Powell Blvd &amp; W 138 St</td>\n",
       "      <td>1.0</td>\n",
       "      <td>40.833303</td>\n",
       "      <td>-73.939326</td>\n",
       "      <td>40.816960</td>\n",
       "      <td>-73.942296</td>\n",
       "    </tr>\n",
       "    <tr>\n",
       "      <th>30785</th>\n",
       "      <td>Delancey St &amp; Eldridge St</td>\n",
       "      <td>Allen St &amp; Rivington St</td>\n",
       "      <td>9.0</td>\n",
       "      <td>40.719383</td>\n",
       "      <td>-73.991479</td>\n",
       "      <td>40.720196</td>\n",
       "      <td>-73.989978</td>\n",
       "    </tr>\n",
       "  </tbody>\n",
       "</table>\n",
       "</div>"
      ],
      "text/plain": [
       "                start_station_name                     end_station_name  \\\n",
       "89095              E 55 St & 2 Ave                   E 72 St & York Ave   \n",
       "164732  Botanical Sq & Webster Ave                  W 218 St & Broadway   \n",
       "53674          W 100 St & Broadway              Centre St & Chambers St   \n",
       "29557     W 159 St & Edgecombe Ave  Adam Clayton Powell Blvd & W 138 St   \n",
       "30785    Delancey St & Eldridge St              Allen St & Rivington St   \n",
       "\n",
       "        value  Latitude_x  Longitude_x  Latitude_y  Longitude_y  \n",
       "89095     8.0   40.757973   -73.966033   40.766638   -73.953483  \n",
       "164732    3.0   40.868140   -73.881450   40.871390   -73.914318  \n",
       "53674     1.0   40.797372   -73.970412   40.712733   -74.004607  \n",
       "29557     1.0   40.833303   -73.939326   40.816960   -73.942296  \n",
       "30785     9.0   40.719383   -73.991479   40.720196   -73.989978  "
      ]
     },
     "execution_count": 41,
     "metadata": {},
     "output_type": "execute_result"
    }
   ],
   "source": [
    "df_sampled.head()"
   ]
  },
  {
   "cell_type": "code",
   "execution_count": 42,
   "id": "b5468de0-0f50-4a7f-b272-1194b18cdcef",
   "metadata": {},
   "outputs": [],
   "source": [
    "df_sampled.rename(columns = {'Latitude_x' : 'start_lat', 'Longitude_x' : 'start_lon', \n",
    "       'Latitude_y' : 'end_lat', 'Longitude_y' : 'end_lon',}, inplace = True)"
   ]
  },
  {
   "cell_type": "markdown",
   "id": "fdea417d-475f-41e6-b80f-7dc2d181cda7",
   "metadata": {},
   "source": [
    "# saving the dataset for the map"
   ]
  },
  {
   "cell_type": "code",
   "execution_count": 43,
   "id": "b334b0ed-041c-4153-9f1b-9db60a9f44e7",
   "metadata": {},
   "outputs": [],
   "source": [
    "df_sampled.to_csv('df_final_locations_for_map.csv')"
   ]
  },
  {
   "cell_type": "markdown",
   "id": "1043e038-e46a-41d9-8aa0-1012801be107",
   "metadata": {},
   "source": [
    "# # Initializing an instance of a kepler.gl map."
   ]
  },
  {
   "cell_type": "code",
   "execution_count": 44,
   "id": "993f6f91-21dd-49f3-9c2f-80b926e7beaa",
   "metadata": {},
   "outputs": [
    {
     "name": "stdout",
     "output_type": "stream",
     "text": [
      "User Guide: https://docs.kepler.gl/docs/keplergl-jupyter\n"
     ]
    }
   ],
   "source": [
    "\n",
    "map1 = KeplerGl(height = 700, data={\"data_1\": df_sampled})\n"
   ]
  },
  {
   "cell_type": "markdown",
   "id": "f05267d2-6f0a-484b-9db3-6f03ae108770",
   "metadata": {},
   "source": [
    "# Set map center to New York City"
   ]
  },
  {
   "cell_type": "code",
   "execution_count": 45,
   "id": "a06bd16a-ab1c-4170-8631-c99f1979e0d6",
   "metadata": {},
   "outputs": [],
   "source": [
    "map1.config = {\n",
    "    \"mapState\": {\n",
    "        \"latitude\": 40.7128,   # NYC center\n",
    "        \"longitude\": -74.0060,\n",
    "        \"zoom\": 11,            # Adjust zoom level (higher = closer in)\n",
    "        \"bearing\": 0,\n",
    "        \"pitch\": 0\n",
    "    }\n",
    "}"
   ]
  },
  {
   "cell_type": "code",
   "execution_count": 46,
   "id": "49551d8b-2c2e-4462-8724-f458c8fd54b6",
   "metadata": {},
   "outputs": [],
   "source": [
    "# Adding my dataset (replace df with your trips or stations DataFrame)"
   ]
  },
  {
   "cell_type": "code",
   "execution_count": 47,
   "id": "f1639348-d15b-43af-84a4-ac3cea5450a4",
   "metadata": {},
   "outputs": [],
   "source": [
    "map1.add_data(data=df_sampled, name=\"NYC Bike Trips\")"
   ]
  },
  {
   "cell_type": "code",
   "execution_count": 48,
   "id": "101bac2f-ca9c-449f-863b-10460248737b",
   "metadata": {},
   "outputs": [],
   "source": [
    "config = map1.config"
   ]
  },
  {
   "cell_type": "code",
   "execution_count": 49,
   "id": "31026573-833e-42b4-a1a3-565f76c67131",
   "metadata": {},
   "outputs": [
    {
     "data": {
      "text/plain": [
       "{'mapState': {'latitude': 40.7128,\n",
       "  'longitude': -74.006,\n",
       "  'zoom': 11,\n",
       "  'bearing': 0,\n",
       "  'pitch': 0}}"
      ]
     },
     "execution_count": 49,
     "metadata": {},
     "output_type": "execute_result"
    }
   ],
   "source": [
    "config"
   ]
  },
  {
   "cell_type": "code",
   "execution_count": 50,
   "id": "eb411e18-3024-41ec-b7cb-138751d0d36a",
   "metadata": {},
   "outputs": [],
   "source": [
    "import json\n",
    "with open(\"config.json\", \"w\") as outfile:\n",
    "    json.dump(config, outfile)"
   ]
  },
  {
   "cell_type": "markdown",
   "id": "bc5543f0-3931-4fe2-8a49-c26775574049",
   "metadata": {},
   "source": [
    "# # Saving the map "
   ]
  },
  {
   "cell_type": "code",
   "execution_count": 51,
   "id": "2d8429ad-6bd8-49a7-9d6e-a97f1cf484a9",
   "metadata": {},
   "outputs": [
    {
     "name": "stdout",
     "output_type": "stream",
     "text": [
      "Map saved to Newyork Bikes Trips Aggregated.html!\n"
     ]
    }
   ],
   "source": [
    "map1.save_to_html(file_name = 'Newyork Bikes Trips Aggregated.html', read_only = False, config = config)"
   ]
  },
  {
   "cell_type": "markdown",
   "id": "a866f0bb-57c3-4edc-82f6-ce1744ffb1c6",
   "metadata": {},
   "source": [
    "### explain what settings you changed and why.\n",
    "\n",
    "# Since the start layer is visible, I activated the end layer by clicking on the eye icon to enable a few more stations to appear as points on the map. I also edited the colors"
   ]
  },
  {
   "cell_type": "markdown",
   "id": "5b0419b7-a991-4883-a9f9-e2271488ada8",
   "metadata": {},
   "source": [
    "### Add a filter to your map and use it to see what the most common trips are in New York City. What else makes an impression? For example, are there any zones that seem particularly busy? Using some additional research, write a few sentences to make sense of that output.\n",
    "\n",
    "# The busiest Citi Bike trips are around Williamsburg (Wythe Ave & Metropolitan Ave), the Upper West Side (West End Ave), and the Financial District (West St & Liberty St). These areas are busy because people use bikes to commute to work, especially downtown, and also for going out in popular neighborhoods like Williamsburg. It shows that Citi Bikes are used both for daily travel and for fun or social trips."
   ]
  },
  {
   "cell_type": "code",
   "execution_count": null,
   "id": "126de2b8-a396-443b-bd03-34278073a544",
   "metadata": {},
   "outputs": [],
   "source": []
  }
 ],
 "metadata": {
  "kernelspec": {
   "display_name": "Python [conda env:venv_citibikes]",
   "language": "python",
   "name": "conda-env-venv_citibikes-py"
  },
  "language_info": {
   "codemirror_mode": {
    "name": "ipython",
    "version": 3
   },
   "file_extension": ".py",
   "mimetype": "text/x-python",
   "name": "python",
   "nbconvert_exporter": "python",
   "pygments_lexer": "ipython3",
   "version": "3.13.5"
  }
 },
 "nbformat": 4,
 "nbformat_minor": 5
}

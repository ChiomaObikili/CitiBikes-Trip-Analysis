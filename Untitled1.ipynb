{
 "cells": [
  {
   "cell_type": "code",
   "execution_count": 1,
   "id": "224fb0a9-50de-407e-b50b-8773daeac066",
   "metadata": {},
   "outputs": [],
   "source": [
    "import pandas as pd\n",
    "\n",
    "# Load the full dataset locally\n",
    "df = pd.read_csv(\"reduced_data_to_plot.csv\", index_col=0, low_memory=False)"
   ]
  },
  {
   "cell_type": "code",
   "execution_count": 2,
   "id": "aa71cdb1-1540-439a-8281-038f8d8255e7",
   "metadata": {},
   "outputs": [
    {
     "name": "stdout",
     "output_type": "stream",
     "text": [
      "(1000000, 19)\n"
     ]
    }
   ],
   "source": [
    "print(df.shape)"
   ]
  },
  {
   "cell_type": "code",
   "execution_count": 3,
   "id": "e2c15a04-d9d7-4674-9854-94d99d419713",
   "metadata": {},
   "outputs": [
    {
     "name": "stdout",
     "output_type": "stream",
     "text": [
      "['ride_id', 'rideable_type', 'started_at', 'ended_at', 'start_station_name', 'start_station_id', 'end_station_name', 'end_station_id', 'start_lat', 'start_lng', 'end_lat', 'end_lng', 'member_casual', 'date', 'avgTemp', '_merge', 'month', 'season', 'value']\n"
     ]
    }
   ],
   "source": [
    "print(df.columns.tolist())"
   ]
  },
  {
   "cell_type": "code",
   "execution_count": 4,
   "id": "f226083f-ce36-4d64-a40b-5038054e9103",
   "metadata": {},
   "outputs": [],
   "source": [
    "# Keep only columns needed for the dashboard\n",
    "columns_needed = ['date', 'avgTemp', 'start_station_name', 'season']\n",
    "df_small = df[columns_needed]\n",
    "\n",
    "# Sample enough rows (e.g., 200,000 or less if dataset smaller)\n",
    "df_small = df_small.sample(n=min(500000, len(df_small)), random_state=42)"
   ]
  },
  {
   "cell_type": "code",
   "execution_count": 5,
   "id": "671cc3ee-01d1-4851-9460-2c6d8c790256",
   "metadata": {},
   "outputs": [
    {
     "name": "stdout",
     "output_type": "stream",
     "text": [
      "(500000, 4)\n"
     ]
    }
   ],
   "source": [
    "print(df_small.shape)"
   ]
  },
  {
   "cell_type": "code",
   "execution_count": 6,
   "id": "a221bbe9-d056-4125-833f-36194bd57c7a",
   "metadata": {},
   "outputs": [],
   "source": [
    "# Save smaller CSV\n",
    "df_small.to_csv(\"reduced_data_to_plot_small.csv\", index=False)\n",
    "\n",
    "# For top20.csv (if needed)\n",
    "top20 = pd.read_csv(\"top20.csv\", index_col=0)\n",
    "top20.to_csv(\"top20_small.csv\", index=False)"
   ]
  },
  {
   "cell_type": "code",
   "execution_count": 7,
   "id": "52f8d6c0-bfd1-4575-a142-8e351e8863b9",
   "metadata": {},
   "outputs": [
    {
     "name": "stdout",
     "output_type": "stream",
     "text": [
      "(20, 2)\n"
     ]
    }
   ],
   "source": [
    "print(top20.shape)"
   ]
  },
  {
   "cell_type": "code",
   "execution_count": null,
   "id": "51f34724-4e30-4174-82e9-8a295b276049",
   "metadata": {},
   "outputs": [],
   "source": []
  }
 ],
 "metadata": {
  "kernelspec": {
   "display_name": "Python [conda env:venv_citibikes]",
   "language": "python",
   "name": "conda-env-venv_citibikes-py"
  },
  "language_info": {
   "codemirror_mode": {
    "name": "ipython",
    "version": 3
   },
   "file_extension": ".py",
   "mimetype": "text/x-python",
   "name": "python",
   "nbconvert_exporter": "python",
   "pygments_lexer": "ipython3",
   "version": "3.13.5"
  }
 },
 "nbformat": 4,
 "nbformat_minor": 5
}

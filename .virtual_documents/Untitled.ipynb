





import pandas as pd 
import numpy as np
import os 
import requests
import json
from datetime import datetime
import zipfile



# Create a list with all files in the folder using a list compehension

folderpath = r"C:\Users\obiki\Citibike-tripdata"


filepaths = []
for root, dirs, files in os.walk(folderpath):
    for name in files:
        if name.lower().endswith(".csv") or name.lower().endswith(".zip"):
            filepaths.append(os.path.join(root, name))

dfs = []

for f in filepaths:
    if f.lower().endswith(".csv"):
        try:
            df_tmp = pd.read_csv(f, encoding="utf-8", dtype=str)
        except UnicodeDecodeError:
            df_tmp = pd.read_csv(f, encoding="latin1", dtype=str)
        except pd.errors.EmptyDataError:
            print(f"⚠️ Skipping empty file: {f}")
            continue
        dfs.append(df_tmp)

    elif f.lower().endswith(".zip"):
        with zipfile.ZipFile(f, "r") as z:
            for filename in z.namelist():
                if filename.lower().endswith(".csv"):
                    try:
                        with z.open(filename) as csvfile:
                            try:
                                df_tmp = pd.read_csv(csvfile, encoding="utf-8", dtype=str)
                            except UnicodeDecodeError:
                                df_tmp = pd.read_csv(csvfile, encoding="latin1", dtype=str)
                    except pd.errors.EmptyDataError:
                        print(f"⚠️ Skipping empty file in zip: {filename}")
                        continue
                    dfs.append(df_tmp)


# Read and concatenate all files simultaneously

# Combine only if we have dataframes
if dfs:
    df = pd.concat(dfs, ignore_index=True)
    print("✅ Combined DataFrame created successfully")
    print("📊 Shape:", df.shape)
else:
    print("❌ No valid CSV files found.")






